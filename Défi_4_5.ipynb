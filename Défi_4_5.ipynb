{
  "nbformat": 4,
  "nbformat_minor": 0,
  "metadata": {
    "kernelspec": {
      "display_name": "Python 3",
      "language": "python",
      "name": "python3"
    },
    "language_info": {
      "codemirror_mode": {
        "name": "ipython",
        "version": 3
      },
      "file_extension": ".py",
      "mimetype": "text/x-python",
      "name": "python",
      "nbconvert_exporter": "python",
      "pygments_lexer": "ipython3",
      "version": "3.6.4"
    },
    "colab": {
      "name": "Défi_4-5.ipynb",
      "provenance": [],
      "include_colab_link": true
    }
  },
  "cells": [
    {
      "cell_type": "markdown",
      "metadata": {
        "id": "view-in-github",
        "colab_type": "text"
      },
      "source": [
        "<a href=\"https://colab.research.google.com/github/Pierre-Loic/ADL_module_Python_datascience/blob/master/D%C3%A9fi_4_5.ipynb\" target=\"_parent\"><img src=\"https://colab.research.google.com/assets/colab-badge.svg\" alt=\"Open In Colab\"/></a>"
      ]
    },
    {
      "cell_type": "markdown",
      "metadata": {
        "id": "H-t-AGMx9jdO",
        "colab_type": "text"
      },
      "source": [
        "# Défi des parties 4 et 5"
      ]
    },
    {
      "cell_type": "markdown",
      "metadata": {
        "id": "FVYV1dVt9jdQ",
        "colab_type": "text"
      },
      "source": [
        "## Numpy"
      ]
    },
    {
      "cell_type": "markdown",
      "metadata": {
        "id": "mB7_v-Xj9jdT",
        "colab_type": "text"
      },
      "source": [
        "- Créer un tableau de zéros de dimensions (5, 8, 6)"
      ]
    },
    {
      "cell_type": "code",
      "metadata": {
        "id": "JA88fuCi9jdV",
        "colab_type": "code",
        "colab": {}
      },
      "source": [
        ""
      ],
      "execution_count": null,
      "outputs": []
    },
    {
      "cell_type": "markdown",
      "metadata": {
        "id": "V5y7I4Af9jdl",
        "colab_type": "text"
      },
      "source": [
        "- Créer un tableau de dimensions (4, 3, 6, 8) à l'aide des fonctions np.arange() et reshape(). Transformer le tableau en un vecteur"
      ]
    },
    {
      "cell_type": "code",
      "metadata": {
        "id": "hJFimhRP9jdl",
        "colab_type": "code",
        "colab": {}
      },
      "source": [
        ""
      ],
      "execution_count": null,
      "outputs": []
    },
    {
      "cell_type": "markdown",
      "metadata": {
        "id": "qwYPQmzt9jdv",
        "colab_type": "text"
      },
      "source": [
        "- Créer une tableau de dimension (5, 8) avec des valeurs aléatoires comprises entre 1 et 12. Sélectionner uniquement les valeurs supérieures à 5. Remplacer toutes les valeurs 10 par np.Nan"
      ]
    },
    {
      "cell_type": "code",
      "metadata": {
        "id": "pikZ_QCX9jdy",
        "colab_type": "code",
        "colab": {}
      },
      "source": [
        ""
      ],
      "execution_count": null,
      "outputs": []
    },
    {
      "cell_type": "markdown",
      "metadata": {
        "id": "cnl0TXfj9jd6",
        "colab_type": "text"
      },
      "source": [
        "## Pandas"
      ]
    },
    {
      "cell_type": "markdown",
      "metadata": {
        "id": "KGOqJy5l9jd7",
        "colab_type": "text"
      },
      "source": [
        "- Créer un dataframe pandas à partir du dictionnaire suivant : {'X':[7,8,9,8,5], 'Y':[4,9,8,3,6],'Z':[6,7,9,2,3]}. Créer un nouveau dataframe avec le carré de la première colonne, le cube de la deuxième colonne et la puissance quatre de la troisième colonne. Concaténer les deux dataframes horizontalement"
      ]
    },
    {
      "cell_type": "code",
      "metadata": {
        "id": "ydbbsABi9jd9",
        "colab_type": "code",
        "colab": {}
      },
      "source": [
        ""
      ],
      "execution_count": null,
      "outputs": []
    },
    {
      "cell_type": "markdown",
      "metadata": {
        "id": "GmN8Vl0b9jeE",
        "colab_type": "text"
      },
      "source": [
        "- Créer un dataframe à partir du dictionnaire suivant : {'name': ['Anastasia', 'Dima', 'Katherine', 'James', 'Emily', 'Michael', 'Matthew', 'Laura', 'Kevin', 'Jonas'],\n",
        "'score': [12.5, 9, 16.5, 15, 9, 20, 14.5, 7, 8, 19],\n",
        "'attempts': [1, 3, 2, 3, 2, 3, 1, 1, 2, 1]}. Récupérer les noms des personnes au dessus de la moyenne (la moyenne est calculée avec le nombre d'essais)"
      ]
    },
    {
      "cell_type": "code",
      "metadata": {
        "id": "Zazzdfd49jeG",
        "colab_type": "code",
        "colab": {}
      },
      "source": [
        ""
      ],
      "execution_count": null,
      "outputs": []
    }
  ]
}